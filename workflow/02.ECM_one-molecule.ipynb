{
 "cells": [
  {
   "attachments": {},
   "cell_type": "markdown",
   "metadata": {},
   "source": [
    "# ECM calculation:\n",
    "**Task:** \n",
    "1. Define the mirroring path where the ECM will be calculated\n",
    "2. Define the vector which is supposed to be perpendicular to the mirroring plane\n",
    "3. Import the CFMAR molecule from a xyz file\n",
    "4. Generate the virtual mirroring path\n",
    "5. Calculate and print CCMs and ECMs"
   ]
  },
  {
   "cell_type": "code",
   "execution_count": 1,
   "metadata": {},
   "outputs": [],
   "source": [
    "# creating the path (PYTHONPATH) to our module.\n",
    "# assuming that our 'pyECM' directory is out ('..') of our current directory \n",
    "import os\n",
    "import sys\n",
    "module_path = os.path.abspath(os.path.join('..'))\n",
    "\n",
    "if module_path not in sys.path:\n",
    "    sys.path.append(module_path)"
   ]
  },
  {
   "cell_type": "code",
   "execution_count": 2,
   "metadata": {},
   "outputs": [
    {
     "name": "stdout",
     "output_type": "stream",
     "text": [
      "Warning: it is assumed that the reflection plane (and symm conf) is at z=0\n",
      "z rates: [0.5  0.55 0.6 ]\n",
      "NR ECMs: [28.8567252  31.29608173 33.58329913]\n"
     ]
    }
   ],
   "source": [
    "from pyECM.molecule_class import molecula\n",
    "import numpy as np\n",
    "\n",
    "\n",
    "minimo = 0.50\n",
    "maximo = 0.60\n",
    "delta = 0.05\n",
    "puntos = int (round( (maximo - minimo)/delta)) + 1\n",
    "\n",
    "\n",
    "vector = np.array([-0.1807, -0.9725, -0.1469]) #Normal vector that defines the plane\n",
    "origen_achiral_atom = np.array([0.0000, 0.000, 0.0000]) # Point that defines the plane. Any atom of the symmetric structure\n",
    "\n",
    "mymolecule = molecula(XYZ_file = '../pyECM/data/import/CFMAR_chiral.xyz', dipolo=vector, origen=origen_achiral_atom)\n",
    "mymolecule.rotate_to_align_dipole_with_z()\n",
    "\n",
    "mymolecule.xyz_mirror_path(folder='../pyECM/data/export/', prefix_name='CFMAR_chiral', lim_inf=minimo, lim_sup=maximo, points=puntos, DIRAC = True)\n",
    "\n",
    "options = {'cartesian' : True, 'lim_inf' : minimo, 'lim_sup' : maximo, 'points' : puntos , 'tracking' : False, 'debug' : 0}\n",
    "\n",
    "# Get and save CCM and ECM values\n",
    "zrate, Norms1, CCMs1, Norms2, CCMs2 = mymolecule.CCM_on_path(lim_inf=minimo, lim_sup=maximo,points=puntos)\n",
    "zrate, ECMs_NR, ECMs_molcontr, ECMs_4c = mymolecule.ECM_on_path(name='../pyECM/data/export/CFMAR_chiral', fourcomp=False, basis_set='sto-3g', **options)\n",
    "\n",
    "#Print section\n",
    "print(\"z rates:\", zrate)\n",
    "print(\"NR ECMs:\", ECMs_NR)\n",
    "\n",
    "\n"
   ]
  }
 ],
 "metadata": {
  "kernelspec": {
   "display_name": "Python 3",
   "language": "python",
   "name": "python3"
  },
  "language_info": {
   "codemirror_mode": {
    "name": "ipython",
    "version": 3
   },
   "file_extension": ".py",
   "mimetype": "text/x-python",
   "name": "python",
   "nbconvert_exporter": "python",
   "pygments_lexer": "ipython3",
   "version": "3.8.10"
  },
  "orig_nbformat": 4,
  "vscode": {
   "interpreter": {
    "hash": "31f2aee4e71d21fbe5cf8b01ff0e069b9275f58929596ceb00d14d90e3e16cd6"
   }
  }
 },
 "nbformat": 4,
 "nbformat_minor": 2
}
