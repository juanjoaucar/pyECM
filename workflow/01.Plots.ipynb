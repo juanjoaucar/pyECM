{
 "cells": [
  {
   "attachments": {},
   "cell_type": "markdown",
   "metadata": {},
   "source": [
    "# Plots for testing systems:\n",
    "**Task:** \n",
    "1. Import a preloaded Molecule object\n",
    "2. Plot the molecule and the plane perpendicular to its associated vector\n",
    "3. Import a molecule from a xyz file\n",
    "4. Align the molecule vector to the z-axis and plot the object"
   ]
  },
  {
   "cell_type": "code",
   "execution_count": 1,
   "metadata": {},
   "outputs": [],
   "source": [
    "# creating the path (PYTHONPATH) to our module.\n",
    "# assuming that our 'pyECM' directory is out ('..') of our current directory \n",
    "import os\n",
    "import sys\n",
    "module_path = os.path.abspath(os.path.join('..'))\n",
    "\n",
    "if module_path not in sys.path:\n",
    "    sys.path.append(module_path)"
   ]
  },
  {
   "cell_type": "code",
   "execution_count": 2,
   "metadata": {},
   "outputs": [],
   "source": [
    "from pyECM.molecule_class import molecula\n",
    "from pyECM.data.moleculas import mol_SeIClO_rotated\n",
    "import matplotlib.pyplot as plt\n",
    "\n",
    "#Pop up plot\n",
    "%matplotlib qt\n",
    "\n",
    "fig=plt.figure()\n",
    "options = {\n",
    "            'xlabel' : \"ax.set_xlabel('$x$', fontsize=10, rotation=0)\",\n",
    "            'ylabel' : \"ax.set_ylabel('$y$', fontsize=10, rotation=0)\",\n",
    "            'zlabel' : \"ax.set_zlabel('$z$', fontsize=10, rotation=0)\",\n",
    "            'titulo' : 'self.fig.suptitle(\"SeIClO test molecule\", fontsize=10)'\n",
    "            }\n",
    "\n",
    "my_molecule = molecula(figure=fig, preloaded_molecule=mol_SeIClO_rotated('S'),**options)\n",
    "\n",
    "my_molecule.plot_sphere()\n",
    "my_molecule.plot_enlaces()\n",
    "my_molecule.plot_dipolo()\n",
    "my_molecule.plot_plano()\n",
    "my_molecule.plot_opciones()\n",
    "\n",
    "\n",
    "plt.show()"
   ]
  },
  {
   "cell_type": "code",
   "execution_count": 3,
   "metadata": {},
   "outputs": [],
   "source": [
    "import numpy as np\n",
    "%matplotlib qt\n",
    "\n",
    "options = {\n",
    "            'xlabel' : \"ax.set_xlabel('$x$', fontsize=10, rotation=0)\",\n",
    "            'ylabel' : \"ax.set_ylabel('$y$', fontsize=10, rotation=0)\",\n",
    "            'zlabel' : \"ax.set_zlabel('$z$', fontsize=10, rotation=0)\"\n",
    "            }\n",
    "fig=plt.figure()\n",
    "\n",
    "vector = np.array([-0.1219, -0.7434, 0.6576]) #Normal vector that will define the plane\n",
    "origen_achiral_atom = np.array([-1.23901,        0.09414,       -1.00908]) # Point that defines the plane\n",
    "\n",
    "my_second_molecule = molecula(figure = fig, XYZ_file = '../pyECM/data/import/AP1_chiral.xyz', dipolo=vector, origen=origen_achiral_atom,**options)\n",
    "my_second_molecule.rotate_to_align_dipole_with_z()\n",
    "my_second_molecule.plot_dipolo()\n",
    "my_second_molecule.plot_sphere()\n",
    "my_second_molecule.plot_plano()\n",
    "my_second_molecule.plot_opciones()\n",
    "\n",
    "plt.show()\n",
    "\n",
    "\n",
    "#c.save_xyz(filename=\"test.xyz\")\n"
   ]
  }
 ],
 "metadata": {
  "kernelspec": {
   "display_name": "Python 3",
   "language": "python",
   "name": "python3"
  },
  "language_info": {
   "codemirror_mode": {
    "name": "ipython",
    "version": 3
   },
   "file_extension": ".py",
   "mimetype": "text/x-python",
   "name": "python",
   "nbconvert_exporter": "python",
   "pygments_lexer": "ipython3",
   "version": "3.8.10"
  },
  "orig_nbformat": 4,
  "vscode": {
   "interpreter": {
    "hash": "31f2aee4e71d21fbe5cf8b01ff0e069b9275f58929596ceb00d14d90e3e16cd6"
   }
  }
 },
 "nbformat": 4,
 "nbformat_minor": 2
}
