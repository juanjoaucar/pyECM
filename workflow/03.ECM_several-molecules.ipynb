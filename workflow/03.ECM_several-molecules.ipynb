{
 "cells": [
  {
   "attachments": {},
   "cell_type": "markdown",
   "metadata": {},
   "source": [
    "# ECM calculation in several molecules:\n",
    "Normal vectors and achiral molecules can be taken from https://csm.ouproj.org.il/molecule\n",
    "\n",
    "\n",
    "**Task:** \n",
    "1. Define the molecules that will be under study as well as their associated defining vectors\n",
    "2. Define the vectors which are supposed to be perpendicular to the mirroring plane (random vectors are taken here)\n",
    "\n",
    "\n",
    "\n"
   ]
  },
  {
   "cell_type": "code",
   "execution_count": 1,
   "metadata": {},
   "outputs": [],
   "source": [
    "# creating the path (PYTHONPATH) to our module.\n",
    "# assuming that our 'pyECM' directory is out ('..') of our current directory \n",
    "import os\n",
    "import sys\n",
    "module_path = os.path.abspath(os.path.join('..'))\n",
    "\n",
    "if module_path not in sys.path:\n",
    "    sys.path.append(module_path)"
   ]
  },
  {
   "cell_type": "code",
   "execution_count": 23,
   "metadata": {},
   "outputs": [],
   "source": [
    "import numpy as np\n",
    "from pyECM.molecule_class import molecula\n",
    "\n",
    "\n",
    "\n",
    "N_molecules = 2\n",
    "names_molecules = [None]*N_molecules\n",
    "vectores = [None]*N_molecules\n",
    "\n",
    "\n",
    "vectores[0]= np.array([-0.0172, 0.0068, 0.9998])\n",
    "names_molecules[0] = 'CFMAR'\n",
    "\n",
    "vectores[1]= np.array([-0.0083, 0.0045, 1.0000])\n",
    "names_molecules[1] = 'AP1'\n",
    "\n",
    "#Define mirror path interval\n",
    "minimo = 0.75\n",
    "maximo = 1.0\n",
    "delta = 0.05\n",
    "\n",
    "puntos = int (round( (maximo - minimo)/delta)) + 1\n",
    "#Generates the files associated with the mirror path\n",
    "for i in range(N_molecules):\n",
    "    mol_achiral = molecula(XYZ_file = '../pyECM/data/import/'+names_molecules[i]+'_achiral.xyz')\n",
    "    random_atom_achiral = mol_achiral.positions[0]\n",
    "    mol_chiral = molecula(XYZ_file = '../pyECM/data/import/'+names_molecules[i]+'_chiral.xyz', dipolo=vectores[i], origen=random_atom_achiral)\n",
    "    mol_chiral.rotate_to_align_dipole_with_z()\n",
    "    mol_chiral.xyz_mirror_path(folder='../pyECM/data/export/', prefix_name=names_molecules[i], lim_inf=minimo, lim_sup=maximo, points=puntos, DIRAC = True)\n",
    "\n"
   ]
  },
  {
   "cell_type": "code",
   "execution_count": 18,
   "metadata": {},
   "outputs": [
    {
     "name": "stdout",
     "output_type": "stream",
     "text": [
      "Warning: it is assumed that the reflection plane (and symm conf) is at z=0\n",
      "Warning: it is assumed that the reflection plane (and symm conf) is at z=0\n"
     ]
    }
   ],
   "source": [
    "import pandas as pd\n",
    "\n",
    "#Calculate and save ECM & CCM\n",
    "\n",
    "minimo = 0.75\n",
    "maximo = 1.0\n",
    "delta = 0.05\n",
    "puntos = int (round( (maximo - minimo)/delta)) + 1\n",
    "#base='dyallcv2z'\n",
    "base='sto-3g'\n",
    "\n",
    "# El segundo índice está demás? (CHEQUEAR)\n",
    "zrate = np.zeros([N_molecules,puntos])\n",
    "Norms1 = np.zeros([N_molecules,puntos])\n",
    "CCMs1 = np.zeros([N_molecules,puntos])\n",
    "Norms2 = np.zeros([N_molecules,puntos])\n",
    "CCMs2 = np.zeros([N_molecules,puntos])\n",
    "ECMs_NR = np.zeros([N_molecules,puntos])\n",
    "ECMs_4c = np.zeros([N_molecules,puntos])\n",
    "\n",
    "dataframes = []\n",
    "\n",
    "# Get and save CCM and ECM values (takes about 2 min)\n",
    "for i in range(N_molecules):\n",
    "    mol = molecula(XYZ_file='../pyECM/data/export/'+names_molecules[i]+'_1.00.xyz')\n",
    "    zrate[i], Norms1[i], CCMs1[i], Norms2[i], CCMs2[i] = mol.CCM_on_path(lim_inf=minimo, lim_sup=maximo,points=puntos)\n",
    "    zrate[i], ECMs_NR[i], ECMs_molcontr, ECMs_4c[i] = mol.ECM_on_path(name='../pyECM/data/export/'+names_molecules[i], lim_inf=minimo, lim_sup=maximo, points=puntos, tracking=False, basis_set = base, fourcomp=True, debug=0)\n",
    "    \n",
    "\n",
    "    matrix_aux = np.vstack([zrate[i],Norms1[i], CCMs1[i], Norms2[i], CCMs2[i], ECMs_NR[i], ECMs_4c[i]])\n",
    "    matrix     = np.transpose(matrix_aux)\n",
    "\n",
    "    matrix_aux2 = np.vstack([zrate[i], ECMs_molcontr])\n",
    "    matrix_aux2 = np.transpose(matrix_aux2)\n",
    "\n",
    "\n",
    "    #np.save('../results/'+names_molecules[i]+'_molcontr',matrix_aux2)\n",
    "    np.save('../pyECM/data/results/'+names_molecules[i],matrix)\n"
   ]
  },
  {
   "cell_type": "code",
   "execution_count": 50,
   "metadata": {},
   "outputs": [
    {
     "ename": "FileNotFoundError",
     "evalue": "[Errno 2] No such file or directory: 'results/H_PV/Tablas/TotalValues_A.tab'",
     "output_type": "error",
     "traceback": [
      "\u001b[0;31m---------------------------------------------------------------------------\u001b[0m",
      "\u001b[0;31mFileNotFoundError\u001b[0m                         Traceback (most recent call last)",
      "\u001b[0;32m/tmp/ipykernel_60179/3230418311.py\u001b[0m in \u001b[0;36m<module>\u001b[0;34m\u001b[0m\n\u001b[1;32m     15\u001b[0m \u001b[0;34m\u001b[0m\u001b[0m\n\u001b[1;32m     16\u001b[0m     \u001b[0;31m#Import HPV & chir dens obtained results\u001b[0m\u001b[0;34m\u001b[0m\u001b[0;34m\u001b[0m\u001b[0;34m\u001b[0m\u001b[0m\n\u001b[0;32m---> 17\u001b[0;31m     \u001b[0mHPV\u001b[0m \u001b[0;34m=\u001b[0m \u001b[0mpd\u001b[0m\u001b[0;34m.\u001b[0m\u001b[0mread_csv\u001b[0m\u001b[0;34m(\u001b[0m\u001b[0;34m'results/H_PV/Tablas/TotalValues_'\u001b[0m\u001b[0;34m+\u001b[0m\u001b[0mnames_molecules\u001b[0m\u001b[0;34m[\u001b[0m\u001b[0mi\u001b[0m\u001b[0;34m]\u001b[0m\u001b[0;34m+\u001b[0m\u001b[0;34m'.tab'\u001b[0m\u001b[0;34m,\u001b[0m \u001b[0msep\u001b[0m\u001b[0;34m=\u001b[0m\u001b[0;34m\"\\t\"\u001b[0m\u001b[0;34m,\u001b[0m \u001b[0mheader\u001b[0m\u001b[0;34m=\u001b[0m\u001b[0;32mNone\u001b[0m\u001b[0;34m,\u001b[0m \u001b[0mskiprows\u001b[0m\u001b[0;34m=\u001b[0m\u001b[0;36m2\u001b[0m\u001b[0;34m)\u001b[0m\u001b[0;34m[\u001b[0m\u001b[0;36m2\u001b[0m\u001b[0;34m]\u001b[0m\u001b[0;34m\u001b[0m\u001b[0;34m\u001b[0m\u001b[0m\n\u001b[0m\u001b[1;32m     18\u001b[0m     \u001b[0mchir_dens\u001b[0m \u001b[0;34m=\u001b[0m \u001b[0mpd\u001b[0m\u001b[0;34m.\u001b[0m\u001b[0mread_csv\u001b[0m\u001b[0;34m(\u001b[0m\u001b[0;34m'results/H_PV/Tablas/TotalValues_'\u001b[0m\u001b[0;34m+\u001b[0m\u001b[0mnames_molecules\u001b[0m\u001b[0;34m[\u001b[0m\u001b[0mi\u001b[0m\u001b[0;34m]\u001b[0m\u001b[0;34m+\u001b[0m\u001b[0;34m'.tab'\u001b[0m\u001b[0;34m,\u001b[0m \u001b[0msep\u001b[0m\u001b[0;34m=\u001b[0m\u001b[0;34m\"\\t\"\u001b[0m\u001b[0;34m,\u001b[0m \u001b[0mheader\u001b[0m\u001b[0;34m=\u001b[0m\u001b[0;32mNone\u001b[0m\u001b[0;34m,\u001b[0m \u001b[0mskiprows\u001b[0m\u001b[0;34m=\u001b[0m\u001b[0;36m2\u001b[0m\u001b[0;34m)\u001b[0m\u001b[0;34m[\u001b[0m\u001b[0;36m3\u001b[0m\u001b[0;34m]\u001b[0m\u001b[0;34m\u001b[0m\u001b[0;34m\u001b[0m\u001b[0m\n\u001b[1;32m     19\u001b[0m     \u001b[0mzrate_check\u001b[0m\u001b[0;34m=\u001b[0m\u001b[0mpd\u001b[0m\u001b[0;34m.\u001b[0m\u001b[0mread_csv\u001b[0m\u001b[0;34m(\u001b[0m\u001b[0;34m'results/H_PV/Tablas/TotalValues_'\u001b[0m\u001b[0;34m+\u001b[0m\u001b[0mnames_molecules\u001b[0m\u001b[0;34m[\u001b[0m\u001b[0mi\u001b[0m\u001b[0;34m]\u001b[0m\u001b[0;34m+\u001b[0m\u001b[0;34m'.tab'\u001b[0m\u001b[0;34m,\u001b[0m \u001b[0msep\u001b[0m\u001b[0;34m=\u001b[0m\u001b[0;34m\"\\t\"\u001b[0m\u001b[0;34m,\u001b[0m \u001b[0mheader\u001b[0m\u001b[0;34m=\u001b[0m\u001b[0;32mNone\u001b[0m\u001b[0;34m,\u001b[0m \u001b[0mskiprows\u001b[0m\u001b[0;34m=\u001b[0m\u001b[0;36m2\u001b[0m\u001b[0;34m)\u001b[0m\u001b[0;34m[\u001b[0m\u001b[0;36m1\u001b[0m\u001b[0;34m]\u001b[0m\u001b[0;34m\u001b[0m\u001b[0;34m\u001b[0m\u001b[0m\n",
      "\u001b[0;32m~/.local/lib/python3.8/site-packages/pandas/io/parsers.py\u001b[0m in \u001b[0;36mread_csv\u001b[0;34m(filepath_or_buffer, sep, delimiter, header, names, index_col, usecols, squeeze, prefix, mangle_dupe_cols, dtype, engine, converters, true_values, false_values, skipinitialspace, skiprows, skipfooter, nrows, na_values, keep_default_na, na_filter, verbose, skip_blank_lines, parse_dates, infer_datetime_format, keep_date_col, date_parser, dayfirst, cache_dates, iterator, chunksize, compression, thousands, decimal, lineterminator, quotechar, quoting, doublequote, escapechar, comment, encoding, dialect, error_bad_lines, warn_bad_lines, delim_whitespace, low_memory, memory_map, float_precision)\u001b[0m\n\u001b[1;32m    686\u001b[0m     )\n\u001b[1;32m    687\u001b[0m \u001b[0;34m\u001b[0m\u001b[0m\n\u001b[0;32m--> 688\u001b[0;31m     \u001b[0;32mreturn\u001b[0m \u001b[0m_read\u001b[0m\u001b[0;34m(\u001b[0m\u001b[0mfilepath_or_buffer\u001b[0m\u001b[0;34m,\u001b[0m \u001b[0mkwds\u001b[0m\u001b[0;34m)\u001b[0m\u001b[0;34m\u001b[0m\u001b[0;34m\u001b[0m\u001b[0m\n\u001b[0m\u001b[1;32m    689\u001b[0m \u001b[0;34m\u001b[0m\u001b[0m\n\u001b[1;32m    690\u001b[0m \u001b[0;34m\u001b[0m\u001b[0m\n",
      "\u001b[0;32m~/.local/lib/python3.8/site-packages/pandas/io/parsers.py\u001b[0m in \u001b[0;36m_read\u001b[0;34m(filepath_or_buffer, kwds)\u001b[0m\n\u001b[1;32m    452\u001b[0m \u001b[0;34m\u001b[0m\u001b[0m\n\u001b[1;32m    453\u001b[0m     \u001b[0;31m# Create the parser.\u001b[0m\u001b[0;34m\u001b[0m\u001b[0;34m\u001b[0m\u001b[0;34m\u001b[0m\u001b[0m\n\u001b[0;32m--> 454\u001b[0;31m     \u001b[0mparser\u001b[0m \u001b[0;34m=\u001b[0m \u001b[0mTextFileReader\u001b[0m\u001b[0;34m(\u001b[0m\u001b[0mfp_or_buf\u001b[0m\u001b[0;34m,\u001b[0m \u001b[0;34m**\u001b[0m\u001b[0mkwds\u001b[0m\u001b[0;34m)\u001b[0m\u001b[0;34m\u001b[0m\u001b[0;34m\u001b[0m\u001b[0m\n\u001b[0m\u001b[1;32m    455\u001b[0m \u001b[0;34m\u001b[0m\u001b[0m\n\u001b[1;32m    456\u001b[0m     \u001b[0;32mif\u001b[0m \u001b[0mchunksize\u001b[0m \u001b[0;32mor\u001b[0m \u001b[0miterator\u001b[0m\u001b[0;34m:\u001b[0m\u001b[0;34m\u001b[0m\u001b[0;34m\u001b[0m\u001b[0m\n",
      "\u001b[0;32m~/.local/lib/python3.8/site-packages/pandas/io/parsers.py\u001b[0m in \u001b[0;36m__init__\u001b[0;34m(self, f, engine, **kwds)\u001b[0m\n\u001b[1;32m    946\u001b[0m             \u001b[0mself\u001b[0m\u001b[0;34m.\u001b[0m\u001b[0moptions\u001b[0m\u001b[0;34m[\u001b[0m\u001b[0;34m\"has_index_names\"\u001b[0m\u001b[0;34m]\u001b[0m \u001b[0;34m=\u001b[0m \u001b[0mkwds\u001b[0m\u001b[0;34m[\u001b[0m\u001b[0;34m\"has_index_names\"\u001b[0m\u001b[0;34m]\u001b[0m\u001b[0;34m\u001b[0m\u001b[0;34m\u001b[0m\u001b[0m\n\u001b[1;32m    947\u001b[0m \u001b[0;34m\u001b[0m\u001b[0m\n\u001b[0;32m--> 948\u001b[0;31m         \u001b[0mself\u001b[0m\u001b[0;34m.\u001b[0m\u001b[0m_make_engine\u001b[0m\u001b[0;34m(\u001b[0m\u001b[0mself\u001b[0m\u001b[0;34m.\u001b[0m\u001b[0mengine\u001b[0m\u001b[0;34m)\u001b[0m\u001b[0;34m\u001b[0m\u001b[0;34m\u001b[0m\u001b[0m\n\u001b[0m\u001b[1;32m    949\u001b[0m \u001b[0;34m\u001b[0m\u001b[0m\n\u001b[1;32m    950\u001b[0m     \u001b[0;32mdef\u001b[0m \u001b[0mclose\u001b[0m\u001b[0;34m(\u001b[0m\u001b[0mself\u001b[0m\u001b[0;34m)\u001b[0m\u001b[0;34m:\u001b[0m\u001b[0;34m\u001b[0m\u001b[0;34m\u001b[0m\u001b[0m\n",
      "\u001b[0;32m~/.local/lib/python3.8/site-packages/pandas/io/parsers.py\u001b[0m in \u001b[0;36m_make_engine\u001b[0;34m(self, engine)\u001b[0m\n\u001b[1;32m   1178\u001b[0m     \u001b[0;32mdef\u001b[0m \u001b[0m_make_engine\u001b[0m\u001b[0;34m(\u001b[0m\u001b[0mself\u001b[0m\u001b[0;34m,\u001b[0m \u001b[0mengine\u001b[0m\u001b[0;34m=\u001b[0m\u001b[0;34m\"c\"\u001b[0m\u001b[0;34m)\u001b[0m\u001b[0;34m:\u001b[0m\u001b[0;34m\u001b[0m\u001b[0;34m\u001b[0m\u001b[0m\n\u001b[1;32m   1179\u001b[0m         \u001b[0;32mif\u001b[0m \u001b[0mengine\u001b[0m \u001b[0;34m==\u001b[0m \u001b[0;34m\"c\"\u001b[0m\u001b[0;34m:\u001b[0m\u001b[0;34m\u001b[0m\u001b[0;34m\u001b[0m\u001b[0m\n\u001b[0;32m-> 1180\u001b[0;31m             \u001b[0mself\u001b[0m\u001b[0;34m.\u001b[0m\u001b[0m_engine\u001b[0m \u001b[0;34m=\u001b[0m \u001b[0mCParserWrapper\u001b[0m\u001b[0;34m(\u001b[0m\u001b[0mself\u001b[0m\u001b[0;34m.\u001b[0m\u001b[0mf\u001b[0m\u001b[0;34m,\u001b[0m \u001b[0;34m**\u001b[0m\u001b[0mself\u001b[0m\u001b[0;34m.\u001b[0m\u001b[0moptions\u001b[0m\u001b[0;34m)\u001b[0m\u001b[0;34m\u001b[0m\u001b[0;34m\u001b[0m\u001b[0m\n\u001b[0m\u001b[1;32m   1181\u001b[0m         \u001b[0;32melse\u001b[0m\u001b[0;34m:\u001b[0m\u001b[0;34m\u001b[0m\u001b[0;34m\u001b[0m\u001b[0m\n\u001b[1;32m   1182\u001b[0m             \u001b[0;32mif\u001b[0m \u001b[0mengine\u001b[0m \u001b[0;34m==\u001b[0m \u001b[0;34m\"python\"\u001b[0m\u001b[0;34m:\u001b[0m\u001b[0;34m\u001b[0m\u001b[0;34m\u001b[0m\u001b[0m\n",
      "\u001b[0;32m~/.local/lib/python3.8/site-packages/pandas/io/parsers.py\u001b[0m in \u001b[0;36m__init__\u001b[0;34m(self, src, **kwds)\u001b[0m\n\u001b[1;32m   2008\u001b[0m         \u001b[0mkwds\u001b[0m\u001b[0;34m[\u001b[0m\u001b[0;34m\"usecols\"\u001b[0m\u001b[0;34m]\u001b[0m \u001b[0;34m=\u001b[0m \u001b[0mself\u001b[0m\u001b[0;34m.\u001b[0m\u001b[0musecols\u001b[0m\u001b[0;34m\u001b[0m\u001b[0;34m\u001b[0m\u001b[0m\n\u001b[1;32m   2009\u001b[0m \u001b[0;34m\u001b[0m\u001b[0m\n\u001b[0;32m-> 2010\u001b[0;31m         \u001b[0mself\u001b[0m\u001b[0;34m.\u001b[0m\u001b[0m_reader\u001b[0m \u001b[0;34m=\u001b[0m \u001b[0mparsers\u001b[0m\u001b[0;34m.\u001b[0m\u001b[0mTextReader\u001b[0m\u001b[0;34m(\u001b[0m\u001b[0msrc\u001b[0m\u001b[0;34m,\u001b[0m \u001b[0;34m**\u001b[0m\u001b[0mkwds\u001b[0m\u001b[0;34m)\u001b[0m\u001b[0;34m\u001b[0m\u001b[0;34m\u001b[0m\u001b[0m\n\u001b[0m\u001b[1;32m   2011\u001b[0m         \u001b[0mself\u001b[0m\u001b[0;34m.\u001b[0m\u001b[0munnamed_cols\u001b[0m \u001b[0;34m=\u001b[0m \u001b[0mself\u001b[0m\u001b[0;34m.\u001b[0m\u001b[0m_reader\u001b[0m\u001b[0;34m.\u001b[0m\u001b[0munnamed_cols\u001b[0m\u001b[0;34m\u001b[0m\u001b[0;34m\u001b[0m\u001b[0m\n\u001b[1;32m   2012\u001b[0m \u001b[0;34m\u001b[0m\u001b[0m\n",
      "\u001b[0;32mpandas/_libs/parsers.pyx\u001b[0m in \u001b[0;36mpandas._libs.parsers.TextReader.__cinit__\u001b[0;34m()\u001b[0m\n",
      "\u001b[0;32mpandas/_libs/parsers.pyx\u001b[0m in \u001b[0;36mpandas._libs.parsers.TextReader._setup_parser_source\u001b[0;34m()\u001b[0m\n",
      "\u001b[0;31mFileNotFoundError\u001b[0m: [Errno 2] No such file or directory: 'results/H_PV/Tablas/TotalValues_A.tab'"
     ]
    }
   ],
   "source": [
    "#Create Tables\n",
    "import pandas as pd\n",
    "\n",
    "\n",
    "#N_molecules = 1\n",
    "dataframes = [] #List with dataframes\n",
    "dataframes_original_mols = []\n",
    "dataframes_perorbital = []\n",
    "\n",
    "for i in range(N_molecules):\n",
    "    #Import CCM & ECM obtained results \n",
    "    dataframes.append(pd.DataFrame(np.load('../pyECM/data/results/'+names_molecules[i]+'.npy')))\n",
    "    dataframes[i].columns = ['z rate', 'Norms 1', 'CCM 1', 'Norms 2', 'CCM 2', 'ECM_NR', 'ECM_4c']\n",
    "\n",
    "    #Import HPV & chir dens obtained results\n",
    "    HPV = pd.read_csv('results/H_PV/Tablas/TotalValues_'+names_molecules[i]+'.tab', sep=\"\\t\", header=None, skiprows=2)[2]\n",
    "    chir_dens = pd.read_csv('results/H_PV/Tablas/TotalValues_'+names_molecules[i]+'.tab', sep=\"\\t\", header=None, skiprows=2)[3]\n",
    "    zrate_check=pd.read_csv('results/H_PV/Tablas/TotalValues_'+names_molecules[i]+'.tab', sep=\"\\t\", header=None, skiprows=2)[1]\n",
    "    if ((dataframes[i]['z rate']-zrate_check).all() != 0):\n",
    "        raise Exception(\"Z rate of dataframes are not the same\")\n",
    "    dataframes[i]['HPV'] = HPV\n",
    "    dataframes[i]['|HPV|'] = np.abs(HPV)\n",
    "    dataframes[i]['Chir Dens'] = chir_dens\n",
    "\n",
    "    #Import chirdens & ECM per orbital results\n",
    "    dataframes_perorbital.append(pd.DataFrame(np.load('results/CCM&ECM/'+names_molecules[0]+'_molcontr.npy')))\n",
    "\n",
    "    #Dataframe for original chiral ligands\n",
    "    contain_values = pd.DataFrame(dataframes[i][dataframes[i]['z rate'].astype(str).str.contains('1.0')])\n",
    "    contain_values['Ligand'] = names_molecules[i]\n",
    "    contain_values['|HPV|'] = np.abs(HPV)\n",
    "    contain_values['|Chir Dens|'] = np.abs(chir_dens)\n",
    "    dataframes_original_mols.append(contain_values)\n",
    "\n",
    "#Export results to xlsx file\n",
    "with pd.ExcelWriter('MirrorPaths.xlsx') as writer:\n",
    "    for indice in range(N_molecules):\n",
    "        dataframes[indice].to_excel(writer,sheet_name=names_molecules[indice], index=False)\n",
    "\n",
    "all_mol = pd.concat(dataframes_original_mols)\n",
    "with pd.ExcelWriter('output_toghether.xlsx') as writer:\n",
    "    all_mol.to_excel(writer, index=False)\n",
    "\n",
    "\n",
    "with pd.ExcelWriter('Analysis_per_orbital.xlsx') as writer:\n",
    "    for indice in range(N_molecules):\n",
    "        dataframes_perorbital[indice].to_excel(writer,sheet_name=names_molecules[indice], index=False)"
   ]
  }
 ],
 "metadata": {
  "kernelspec": {
   "display_name": "Python 3",
   "language": "python",
   "name": "python3"
  },
  "language_info": {
   "codemirror_mode": {
    "name": "ipython",
    "version": 3
   },
   "file_extension": ".py",
   "mimetype": "text/x-python",
   "name": "python",
   "nbconvert_exporter": "python",
   "pygments_lexer": "ipython3",
   "version": "3.8.10"
  },
  "orig_nbformat": 4,
  "vscode": {
   "interpreter": {
    "hash": "31f2aee4e71d21fbe5cf8b01ff0e069b9275f58929596ceb00d14d90e3e16cd6"
   }
  }
 },
 "nbformat": 4,
 "nbformat_minor": 2
}
