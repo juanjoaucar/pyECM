{
 "cells": [
  {
   "attachments": {},
   "cell_type": "markdown",
   "metadata": {},
   "source": [
    "# ECM calculation:\n",
    "**Task:** \n",
    "1. Get the vector that defines the nearest achiral structure (from https://csm.ouproj.org.il/molecule)\n",
    "2. Import the CFMAR molecule from a xyz file\n",
    "3. Align the molecule so that the vector lies on the z-axis\n",
    "4. Calculate and print CCMs and ECM"
   ]
  },
  {
   "cell_type": "code",
   "execution_count": null,
   "metadata": {},
   "outputs": [],
   "source": [
    "# creating the path (PYTHONPATH) to our module.\n",
    "# assuming that our 'pyECM' directory is out ('..') of our current directory \n",
    "import os\n",
    "import sys\n",
    "module_path = os.path.abspath(os.path.join('..'))\n",
    "\n",
    "if module_path not in sys.path:\n",
    "    sys.path.append(module_path)"
   ]
  },
  {
   "cell_type": "code",
   "execution_count": null,
   "metadata": {},
   "outputs": [],
   "source": [
    "from pyECM.molecule_class import molecula\n",
    "import numpy as np\n",
    "\n",
    "vector = np.array([-0.1807, -0.9725, -0.1469]) # Got from the mentioned website.\n",
    "\n",
    "mymolecule = molecula(XYZ_file = '../pyECM/data/import/CFMAR_chiral.xyz', direction=vector)\n",
    "mymolecule.rotate_to_align_with_z()\n",
    "\n",
    "# Get and save CCM and ECM.\n",
    "mymolecule.export_xyz(folder='../pyECM/data/export/', prefix_name='CFMAR_chiral', DIRAC = True)\n",
    "options = {'cartesian' : False, 'tracking' : False, 'debug' : 0}\n",
    "\n",
    "Norm1, CCM1, Norm2, CCM2 = mymolecule.CCM()\n",
    "ECM_NR, ECM_molcontr, ECM_4c = mymolecule.ECM(name='../pyECM/data/export/CFMAR_chiral', fourcomp=False, basis_set='sto-3g', **options)\n",
    "\n",
    "#Print section\n",
    "print(CCM1, CCM2, ECM_NR)\n",
    "\n",
    "\n"
   ]
  }
 ],
 "metadata": {
  "kernelspec": {
   "display_name": "Python 3",
   "language": "python",
   "name": "python3"
  },
  "language_info": {
   "codemirror_mode": {
    "name": "ipython",
    "version": 3
   },
   "file_extension": ".py",
   "mimetype": "text/x-python",
   "name": "python",
   "nbconvert_exporter": "python",
   "pygments_lexer": "ipython3",
   "version": "3.10.12"
  },
  "orig_nbformat": 4,
  "vscode": {
   "interpreter": {
    "hash": "31f2aee4e71d21fbe5cf8b01ff0e069b9275f58929596ceb00d14d90e3e16cd6"
   }
  }
 },
 "nbformat": 4,
 "nbformat_minor": 2
}
