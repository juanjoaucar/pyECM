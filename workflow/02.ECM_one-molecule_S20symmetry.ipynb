{
 "cells": [
  {
   "attachments": {},
   "cell_type": "markdown",
   "metadata": {},
   "source": [
    "# CCM and ECM calculation:\n",
    "**Task:** \n",
    "1. Get the nearest symmetric structure from https://csm.ouproj.org.il/molecule\n",
    "2. Import the chiral and achiral structures from xyz files\n",
    "4. Calculate and print CCMs and ECM"
   ]
  },
  {
   "cell_type": "code",
   "execution_count": null,
   "metadata": {},
   "outputs": [],
   "source": [
    "# creating the path (PYTHONPATH) to our module.\n",
    "# assuming that our 'pyECM' directory is out ('..') of our current directory \n",
    "import os\n",
    "import sys\n",
    "module_path = os.path.abspath(os.path.join('..'))\n",
    "\n",
    "if module_path not in sys.path:\n",
    "    sys.path.append(module_path)"
   ]
  },
  {
   "cell_type": "code",
   "execution_count": null,
   "metadata": {},
   "outputs": [],
   "source": [
    "from pyECM.molecule_class import molecula\n",
    "import numpy as np\n",
    "\n",
    "\n",
    "basis='sto-3g'\n",
    "MOL='AP1'\n",
    "data_folder='../pyECM/data/'\n",
    "\n",
    "# Import chiral and achiral structure and export files to \"export\" folder.\n",
    "mymolecule = molecula(XYZ_file = data_folder + 'import/' + MOL + '_chiral.xyz', XYZ_achiral_file = data_folder + 'import/' + MOL + '_achiral_S20.xyz')\n",
    "mymolecule.export_xyz(folder=data_folder+ 'export/', prefix_name=MOL+'_chiral', DIRAC = False, achiral= data_folder + 'import/' + MOL + '_achiral_S20.xyz')\n",
    "\n",
    "# Get CCMs and ECM.\n",
    "Norm1, CCM1, Norm2, CCM2 = mymolecule.CCM()\n",
    "options = {'cartesian' : False, 'tracking' : False, 'debug' : 0}\n",
    "ECM_NR, ECM_molcontr, ECM_4c = mymolecule.ECM(name='../pyECM/data/export/'+MOL+'_chiral', fourcomp=False, basis_set=basis, **options)\n",
    "\n",
    "#Print section\n",
    "print(\"CCMs and non-rel ECM:\",CCM1, CCM2,ECM_NR)"
   ]
  }
 ],
 "metadata": {
  "kernelspec": {
   "display_name": "Python 3",
   "language": "python",
   "name": "python3"
  },
  "language_info": {
   "codemirror_mode": {
    "name": "ipython",
    "version": 3
   },
   "file_extension": ".py",
   "mimetype": "text/x-python",
   "name": "python",
   "nbconvert_exporter": "python",
   "pygments_lexer": "ipython3",
   "version": "3.10.12"
  },
  "orig_nbformat": 4,
  "vscode": {
   "interpreter": {
    "hash": "31f2aee4e71d21fbe5cf8b01ff0e069b9275f58929596ceb00d14d90e3e16cd6"
   }
  }
 },
 "nbformat": 4,
 "nbformat_minor": 2
}
